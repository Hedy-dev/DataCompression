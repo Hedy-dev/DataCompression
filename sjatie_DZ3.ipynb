{
 "cells": [
  {
   "cell_type": "markdown",
   "id": "fe57a602",
   "metadata": {},
   "source": [
    "Выполнил студент Андрющенко К.С."
   ]
  },
  {
   "cell_type": "markdown",
   "id": "a51f89d2",
   "metadata": {},
   "source": [
    "1. Для построения BWT можете брать библиотечный суффиксный массив\n",
    "2. Делаете BWT+MTF+(RLE или ZLE, как хотите)+ARI, иначе результат будет слабый (в качестве последней стадии сравните ARI и HUF)\n",
    "3. Тестируете на своей книге (в исходном и в декапитализированном виде), а потом исследуете любой желаемый вид файлов. \n",
    "\n",
    "*Про картинки я скорее пессимистичен, что будет с сериализацией нейросетей — не берусь предсказать, прооверьте.*"
   ]
  },
  {
   "cell_type": "markdown",
   "id": "40e16b4a",
   "metadata": {},
   "source": [
    "Построение BWT с использованием библиотечного суффиксного массива (наиболее быстрая реализация, вроде O(n)). Также напишем обратное преобразование."
   ]
  },
  {
   "cell_type": "code",
   "execution_count": 100,
   "id": "22f157f9",
   "metadata": {},
   "outputs": [],
   "source": [
    "#%pip install pydivsufsort\n",
    "#%pip install pydivsufsort numpy"
   ]
  },
  {
   "cell_type": "code",
   "execution_count": 101,
   "id": "a597c66d",
   "metadata": {},
   "outputs": [],
   "source": [
    "import pydivsufsort\n",
    "import numpy as np\n",
    "from math import ceil, floor\n",
    "from os.path import commonprefix\n",
    "from collections import Counter\n",
    "import math\n",
    "import numpy as np\n",
    "import time\n",
    "import collections"
   ]
  },
  {
   "cell_type": "markdown",
   "id": "05560171",
   "metadata": {},
   "source": [
    "### Задание 1-2. Для проверки используется простой пример."
   ]
  },
  {
   "cell_type": "code",
   "execution_count": 102,
   "id": "10c19d69",
   "metadata": {},
   "outputs": [],
   "source": [
    "def bwt_suffix_arr(text: str) -> (str, int):\n",
    "    # добавление специального символа конца текста # либо /x00\n",
    "    if not text:\n",
    "        return \"\", -1\n",
    "    # if not text.endswith('#'):\n",
    "    #     text += '#'\n",
    "    text += '\\x00'\n",
    "    \n",
    "    byte_array = (text).encode('utf-8')  \n",
    "    n_bytes = len(byte_array)\n",
    "\n",
    "    sa = pydivsufsort.divsufsort(np.frombuffer(byte_array, dtype=np.uint8).copy())\n",
    "\n",
    "    bwt_bytes = np.empty(n_bytes, dtype=np.uint8)\n",
    "    original_row_index = -1\n",
    "\n",
    "    for i in range(n_bytes):\n",
    "        suffix_start_index = sa[i]\n",
    "        if suffix_start_index == 0:\n",
    "            original_row_index = i\n",
    "            bwt_bytes[i] = byte_array[n_bytes - 1]\n",
    "        else:\n",
    "            bwt_bytes[i] = byte_array[suffix_start_index - 1]\n",
    "\n",
    "    if original_row_index == -1:\n",
    "        raise RuntimeError(\"Original index not found.\")\n",
    "\n",
    "    return bwt_bytes.tobytes().decode('latin-1'), original_row_index"
   ]
  },
  {
   "attachments": {
    "image.png": {
     "image/png": "[encoded data removed]"
    }
   },
   "cell_type": "markdown",
   "id": "c172f7f4",
   "metadata": {},
   "source": [
    "![image.png](attachment:image.png)"
   ]
  },
  {
   "cell_type": "markdown",
   "id": "2e41d9a5",
   "metadata": {},
   "source": [
    "T = БанБананана#"
   ]
  },
  {
   "cell_type": "markdown",
   "id": "eecdd992",
   "metadata": {},
   "source": [
    "\"#\" символ конца текста, он будет замене на символ \"\\x00\" (байтовое значение равно 0), который гарантированно не встречается, при текстовом выводе на месте данного символа будет пропуск"
   ]
  },
  {
   "cell_type": "code",
   "execution_count": 103,
   "id": "a587337c",
   "metadata": {},
   "outputs": [
    {
     "name": "stdout",
     "output_type": "stream",
     "text": [
      "Исходный текст: 'BanBananana'\n",
      "\n",
      "\n",
      "Итоговая BWT-строка: a\u0000nnBnnBaaaa, 1\n"
     ]
    }
   ],
   "source": [
    "text = \"BanBananana\"\n",
    "print(f\"Исходный текст: '{text}'\\n\")\n",
    "bwt_result, indx = bwt_suffix_arr(text)\n",
    "bwt_result = bwt_result.encode('latin-1').decode('utf-8')\n",
    "print(f\"\\nИтоговая BWT-строка: {bwt_result}, {indx}\")"
   ]
  },
  {
   "cell_type": "markdown",
   "id": "770d298c",
   "metadata": {},
   "source": [
    "Обратное преобразование"
   ]
  },
  {
   "cell_type": "markdown",
   "id": "02b8e503",
   "metadata": {},
   "source": [
    "На вход: сама строка BWT и номер строки исходного текста в M(T) (в лекции было Номер i нужной строки — это позиция # в bwt(T), т.е. позиция символа конца текста (оригинального))"
   ]
  },
  {
   "cell_type": "code",
   "execution_count": 104,
   "id": "1a9f11bb",
   "metadata": {},
   "outputs": [],
   "source": [
    "def bwt_decode(bwt_string: str, original_row_index: int) -> str:\n",
    "    # декодирование BWT, с учетом наличия спец символа в конце\n",
    "\n",
    "    if not bwt_string:\n",
    "        return \"\"\n",
    "\n",
    "    bwt_array = np.frombuffer(bwt_string.encode('latin-1'), dtype=np.uint8)\n",
    "    n = len(bwt_array)\n",
    "\n",
    "    char_counts = np.zeros(256, dtype=np.int32)\n",
    "    for byte_val in bwt_array:\n",
    "        char_counts[byte_val] += 1\n",
    "\n",
    "    char_start_positions = np.zeros(256, dtype=np.int32)\n",
    "    for i in range(1, 256):\n",
    "        char_start_positions[i] = char_start_positions[i-1] + char_counts[i-1]\n",
    "\n",
    "    lf_mapping = np.zeros(n, dtype=np.int32)\n",
    "    for i in range(n):\n",
    "        char = bwt_array[i]\n",
    "        lf_mapping[i] = char_start_positions[char]\n",
    "        char_start_positions[char] += 1\n",
    "\n",
    "    decoded_array = np.empty(n, dtype=np.uint8)\n",
    "    current_index = original_row_index\n",
    "\n",
    "    for i in range(n - 1, -1, -1):\n",
    "        decoded_array[i] = bwt_array[current_index]\n",
    "        current_index = lf_mapping[current_index]\n",
    "\n",
    "    decoded_bytes = decoded_array.tobytes()\n",
    "\n",
    "    # Удаляем — символ конца строки\n",
    "    hash_byte_value = ord('\\x00')\n",
    "    if decoded_bytes[-1] != hash_byte_value:\n",
    "        raise ValueError(\"Decoded string does not end with expected null byte.\")\n",
    "    \n",
    "    return decoded_bytes[:-1].decode('utf-8')\n"
   ]
  },
  {
   "cell_type": "code",
   "execution_count": 105,
   "id": "42a1fc58",
   "metadata": {},
   "outputs": [
    {
     "name": "stdout",
     "output_type": "stream",
     "text": [
      "декодированная строка: BanBananana\n",
      "Декодированный текст совпадает с исходным: True\n"
     ]
    }
   ],
   "source": [
    "bwt_result, eof_pos = bwt_suffix_arr(text)\n",
    "decoded_text = bwt_decode(bwt_result, eof_pos)\n",
    "print(f\"декодированная строка: {decoded_text}\")\n",
    "# gроверка\n",
    "original_text = text\n",
    "print(f\"Декодированный текст совпадает с исходным: {decoded_text == original_text}\")"
   ]
  },
  {
   "cell_type": "markdown",
   "id": "7374f7ee",
   "metadata": {},
   "source": [
    "Метод стопки книг (MTF)"
   ]
  },
  {
   "cell_type": "markdown",
   "id": "fcde0e22",
   "metadata": {},
   "source": [
    "(MTF) читает входную строку слева направо и посимвольно меняет ее по следующим правилам:   \n",
    "* Алфавит упорядочен, все символы адресуются своими номерами в списке\n",
    "(первый элемент имеет номер 0)   \n",
    "* Очередной символ a заменяется на номер a в текущем списке, после чего\n",
    "a перемещается в начало списка (получает номер 0)    \n",
    "* у каждого символа с номером меньшим номера a номер увеличивается на 1"
   ]
  },
  {
   "cell_type": "markdown",
   "id": "87b11d1b",
   "metadata": {},
   "source": [
    "Алфавит заранее согласуем, передавать его не надо (учитывая что это предназначено для кодирования текста состоящего из цифр и маленьких букв, можно будет урезать диапазон наверное или же вернуться к созданию оптимального алфавита, а потом передавать его декдеру)"
   ]
  },
  {
   "cell_type": "code",
   "execution_count": 106,
   "id": "8921775c",
   "metadata": {},
   "outputs": [],
   "source": [
    "def mtf_encode(text: str) -> list[int]:\n",
    "    # используется фиксированный, заранее определенный алфавит (все байты от 0 до 255)\n",
    "    alphabet = [chr(i) for i in range(256)]\n",
    "    encoded_output = []\n",
    "    for char in text:\n",
    "        try:\n",
    "            rank = alphabet.index(char)\n",
    "        except ValueError:\n",
    "            # символы не из диапазона\n",
    "            raise ValueError(f\"символ '{char}' не найден в фиксированном алфавите\")\n",
    "        encoded_output.append(rank)\n",
    "        # Перемещаем символ в начало списка\n",
    "        char_to_move = alphabet.pop(rank)\n",
    "        alphabet.insert(0, char_to_move)\n",
    "    return encoded_output\n",
    "\n",
    "def mtf_decode(encoded_data: list[int]) -> str:\n",
    "    # для декодирования нам нужен точно такой же начальный алфавит он заранее известен\n",
    "    alphabet = sorted(list(set(chr(i) for i in range(256)))) \n",
    "    decoded_chars = []\n",
    "    for rank in encoded_data:\n",
    "        # символ по его номеру (индексу)\n",
    "        char = alphabet[rank]\n",
    "        decoded_chars.append(char)\n",
    "        # реремещаем этот символ в начало алфавита\n",
    "        char_to_move = alphabet.pop(rank)\n",
    "        alphabet.insert(0, char_to_move)\n",
    "    return \"\".join(decoded_chars)"
   ]
  },
  {
   "cell_type": "code",
   "execution_count": 107,
   "id": "1f4a79ef",
   "metadata": {},
   "outputs": [
    {
     "name": "stdout",
     "output_type": "stream",
     "text": [
      "\n",
      "Результат MTF-кодирования: [97, 1, 110, 0, 68, 1, 0, 1, 3, 0, 0, 0]\n",
      "Декодированная строка: 'a\u0000nnBnnBaaaa'\n",
      "Декодирование успешно: True\n"
     ]
    }
   ],
   "source": [
    "# кодирование\n",
    "bwt_result, eof_pos = bwt_suffix_arr(text)\n",
    "mtf_result = mtf_encode(bwt_result)\n",
    "print(f\"\\nРезультат MTF-кодирования: {mtf_result}\")\n",
    "\n",
    "# декодирование\n",
    "decoded_string = mtf_decode(mtf_result)\n",
    "print(f\"Декодированная строка: '{decoded_string}'\")\n",
    "print(f\"Декодирование успешно: {decoded_string == bwt_result}\")"
   ]
  },
  {
   "cell_type": "markdown",
   "id": "aa7b60fc",
   "metadata": {},
   "source": [
    "RLE"
   ]
  },
  {
   "cell_type": "markdown",
   "id": "d3d3f446",
   "metadata": {},
   "source": [
    "Каждую последовательность нулей заменяем на 0 и длину последовательности\n",
    "список длин кодируем отдельно"
   ]
  },
  {
   "cell_type": "code",
   "execution_count": 108,
   "id": "1067aa6c",
   "metadata": {},
   "outputs": [],
   "source": [
    "def rle_encode(mtf_output):\n",
    "    if not mtf_output:\n",
    "        return [], []\n",
    "    values = []\n",
    "    frequencies = []\n",
    "    current_value = mtf_output[0]\n",
    "    count = 1\n",
    "    \n",
    "    for value in mtf_output[1:]:\n",
    "        if value == current_value:\n",
    "            count += 1\n",
    "        else:\n",
    "            values.append(current_value)\n",
    "            frequencies.append(count)\n",
    "            current_value = value\n",
    "            count = 1\n",
    "    values.append(current_value)\n",
    "    frequencies.append(count)\n",
    "    return values, frequencies"
   ]
  },
  {
   "cell_type": "code",
   "execution_count": 109,
   "id": "41b20761",
   "metadata": {},
   "outputs": [],
   "source": [
    "def rle_decode(values, frequencies):\n",
    "    if len(values) != len(frequencies):\n",
    "        raise ValueError(\"Длины списков 'values' и 'frequencies' не совпадают.\")\n",
    "    \n",
    "    decoded = []\n",
    "    for value, freq in zip(values, frequencies):\n",
    "        decoded.extend([value] * freq)\n",
    "    return decoded"
   ]
  },
  {
   "cell_type": "code",
   "execution_count": 110,
   "id": "2dfa4c2c",
   "metadata": {},
   "outputs": [
    {
     "name": "stdout",
     "output_type": "stream",
     "text": [
      "Значения [97, 1, 110, 0, 68, 1, 0, 1, 3, 0]\n",
      "Частоты  [1, 1, 1, 1, 1, 1, 1, 1, 1, 3]\n"
     ]
    }
   ],
   "source": [
    "rle_values, rle_freqs = rle_encode(mtf_result)\n",
    "print(\"Значения\", rle_values) \n",
    "print(\"Частоты \", rle_freqs) "
   ]
  },
  {
   "cell_type": "code",
   "execution_count": 111,
   "id": "43519636",
   "metadata": {},
   "outputs": [
    {
     "name": "stdout",
     "output_type": "stream",
     "text": [
      "Восстановлено: [97, 1, 110, 0, 68, 1, 0, 1, 3, 0, 0, 0]\n",
      "Декодирование успешно: True\n"
     ]
    }
   ],
   "source": [
    "decoded_result = rle_decode(rle_values, rle_freqs)\n",
    "print(\"Восстановлено:\", decoded_result)\n",
    "print(f\"Декодирование успешно: {decoded_string == bwt_result}\")"
   ]
  },
  {
   "cell_type": "markdown",
   "id": "6f6880e9",
   "metadata": {},
   "source": [
    "ZLE"
   ]
  },
  {
   "cell_type": "code",
   "execution_count": 112,
   "id": "165ff2fc",
   "metadata": {},
   "outputs": [],
   "source": [
    "def zle_encode(data):\n",
    "    result = []\n",
    "    i = 0\n",
    "    while i < len(data):\n",
    "        if data[i] != 0:\n",
    "            if data[i] in [254, 255]:\n",
    "                result.extend([0, data[i]])  # Экранируем 254 и 255\n",
    "            else:\n",
    "                result.append(data[i])\n",
    "            i += 1\n",
    "        else:\n",
    "            # Подсчет длины последовательности нулей\n",
    "            zero_count = 0\n",
    "            while i < len(data) and data[i] == 0:\n",
    "                zero_count += 1\n",
    "                i += 1\n",
    "\n",
    "            # Кодируем число zero_count + 1 в двоичном виде (без первой 1)\n",
    "            binary = bin(zero_count + 1)[3:]  # Пропускаем первую 1\n",
    "            for b in binary:\n",
    "                result.append(254 if b == '0' else 255)\n",
    "    return result"
   ]
  },
  {
   "cell_type": "code",
   "execution_count": 113,
   "id": "06e71c45",
   "metadata": {},
   "outputs": [],
   "source": [
    "def zle_decode(data):\n",
    "    result = []\n",
    "    i = 0\n",
    "    while i < len(data):\n",
    "        if data[i] == 0:\n",
    "            if i + 1 >= len(data):\n",
    "                raise ValueError(\"Неправильное экранирование 254/255\")\n",
    "            result.append(data[i + 1])  # Восстанавливаем 254 или 255\n",
    "            i += 2\n",
    "        elif data[i] in [254, 255]:\n",
    "            # Читаем последовательность битов\n",
    "            bits = \"\"\n",
    "            while i < len(data) and data[i] in [254, 255]:\n",
    "                bits += '0' if data[i] == 254 else '1'\n",
    "                i += 1\n",
    "            n = int(\"1\" + bits, 2) - 1  # Восстанавливаем длину нулей\n",
    "            result.extend([0] * n)\n",
    "        else:\n",
    "            result.append(data[i])\n",
    "            i += 1\n",
    "    return result"
   ]
  },
  {
   "cell_type": "markdown",
   "id": "1fe3a39e",
   "metadata": {},
   "source": [
    "На книге проверим, RLE или ZLE даст результат лучше. (Мое предположение на данном этапе: после применения MTF похожие контексты рядом превратятся в нули, в последовательности будет много НЕдлинных серий нулей, остальные повторы будут встречаться реже, скорее ввсего ZLE справится лучше)"
   ]
  },
  {
   "cell_type": "markdown",
   "id": "0224da35",
   "metadata": {},
   "source": [
    "#### ARI и HUF"
   ]
  },
  {
   "cell_type": "markdown",
   "id": "5458f7d8",
   "metadata": {},
   "source": [
    "ARI. ВОзьмем реализацию из ДЗ2"
   ]
  },
  {
   "cell_type": "code",
   "execution_count": 114,
   "id": "87ba7ab5",
   "metadata": {},
   "outputs": [],
   "source": [
    "from math import ceil, floor\n",
    "from os.path import commonprefix\n",
    "from collections import Counter\n",
    "\n",
    "def bin_line(n : int, N: int) -> str:\n",
    "    return \"0\" * (N - len(bin(n)[2:])) + bin(n)[2:]\n",
    "\n",
    "\n",
    "def get_l_1 (l, h, a, N):\n",
    "    return l + ceil((h - l + 1) * a / (2 ** N))\n",
    "\n",
    "def get_h_1 (l, h, b, N):\n",
    "    return l + ceil((h - l + 1) * (b + 1) / (2 ** N)) - 1\n",
    "\n",
    "def count_frequencies(source_message : list) -> dict:\n",
    "    return dict(Counter(source_message))\n",
    "\n",
    "\n",
    "\n",
    "def create_intervals(frequencies: dict, N: int, source_message_len: int) -> dict:\n",
    "    intervals = dict()\n",
    "    current_left_value = 0\n",
    "    current_prob = 0\n",
    "    for letter in frequencies.keys():\n",
    "        current_prob += frequencies[letter]\n",
    "        right_val = math.ceil(current_prob * (2 ** N) / source_message_len) - 1\n",
    "        intervals[letter] = [current_left_value, right_val]\n",
    "        current_left_value = right_val + 1\n",
    "    return intervals\n",
    "\n",
    "def get_matched_bits(l : int, h : int, N) -> str:\n",
    "    l_bin = bin_line(l, N)\n",
    "    h_bin = bin_line(h, N)\n",
    "\n",
    "    return commonprefix([l_bin, h_bin])\n",
    "    \n",
    "\n",
    "def count_l_new(l_1, matched_bits, N):\n",
    "    to_add = len(matched_bits) * \"0\"\n",
    "    l_bin = bin_line(l_1, N)\n",
    "    return int(l_bin[len(matched_bits):] + to_add, 2)\n",
    "\n",
    "def count_h_new(h_1, matched_bits, N):\n",
    "    to_add = len(matched_bits) * \"1\"\n",
    "    h_bin = bin_line(h_1, N)\n",
    "    return int(h_bin[len(matched_bits):] + to_add, 2)\n",
    "\n",
    "def count_r(x : str) -> int:\n",
    "    inverse = \"0\"\n",
    "    if x[0] == \"0\":\n",
    "        inverse = \"1\"\n",
    "    index = 1\n",
    "    while (index < len(x) and x[index] == inverse):\n",
    "        index+=1\n",
    "    return index - 1\n",
    "\n",
    "def trick(l : int, h : int, N) -> tuple:\n",
    "    l_bin = bin_line(l, N)\n",
    "    h_bin = bin_line(h, N)\n",
    "    # if l_bin[0] == \"0\" and l_bin[1] == \"1\" and h_bin[0] == \"1\" and h_bin[1] == \"0\":\n",
    "    if get_matched_bits(l, h, N):\n",
    "        return l, h, 0\n",
    "\n",
    "    r = min(count_r(l_bin), count_r(h_bin))\n",
    "    l_bin = \"0\" + l_bin[r+1:] + \"0\" * r\n",
    "    h_bin = \"1\" + h_bin[r+1:] + \"1\" * r\n",
    "    # print(\"computed r =\", r)\n",
    "    return int(l_bin, 2), int(h_bin, 2), r\n",
    "\n",
    "\n",
    "def bits_to_add_with_bits(matched_bits : str, bits : int) -> str:\n",
    "    inverse = \"0\"\n",
    "    if matched_bits[0] == \"0\":\n",
    "        inverse = \"1\"\n",
    "    return matched_bits[0] + inverse * bits + matched_bits[1:]\n",
    "\n",
    "def compress(source_message : list, N : int, frequencies : dict, intervals, dynamic : bool=False):\n",
    "    l = 0\n",
    "    h = 2 ** N - 1\n",
    "    encoded_sequence = ''\n",
    "    bits = 0\n",
    "    not_changed_counter = 0\n",
    "    for index, letter in enumerate(source_message):\n",
    "        l_1 = get_l_1(l, h, intervals[letter][0], N)\n",
    "        h_1 = get_h_1(l, h, intervals[letter][1], N)\n",
    "        matched_bits = get_matched_bits(l_1, h_1, N)\n",
    "        l_new = count_l_new(l_1, matched_bits, N)\n",
    "        h_new = count_h_new(h_1, matched_bits, N)\n",
    "        if matched_bits:\n",
    "            encoded_sequence += bits_to_add_with_bits(matched_bits, bits)\n",
    "            bits = 0\n",
    "        l_new, h_new, new_bits = trick(l_new, h_new, N)\n",
    "        if new_bits != 0:\n",
    "            bits += new_bits\n",
    "        if matched_bits == \"\" and bits == 0:\n",
    "            not_changed_counter += 1\n",
    "        # print_state(index, letter, l, h, l_1, h_1, l_new, h_new, enc, matched_bits, bits, not_changed_counter, intervals)\n",
    "        l, h = l_new, h_new\n",
    "        if dynamic:\n",
    "            frequencies[letter] += 1\n",
    "            intervals = create_intervals(frequencies, N, len(frequencies.keys()) + index + 1)\n",
    "    return encoded_sequence + \"1\" + not_changed_counter * \"0\"\n",
    "\n",
    "def static_arithmetic_compression(source_message:list, bit_precision_config:int):\n",
    "    frequencies = count_frequencies(source_message)\n",
    "    intervals = create_intervals(frequencies, bit_precision_config, len(source_message))\n",
    "    return compress(source_message, bit_precision_config, frequencies, intervals, dynamic=False)"
   ]
  },
  {
   "cell_type": "code",
   "execution_count": 115,
   "id": "da1849c5",
   "metadata": {},
   "outputs": [],
   "source": [
    "def din_arithmetic_compression(source_message:list, bit_precision_config:int):\n",
    "    frequencies = {i : 1 for i in source_message}\n",
    "    intervals = create_intervals(frequencies, bit_precision_config, len(frequencies.keys()))\n",
    "    return compress(source_message, bit_precision_config, frequencies, intervals, dynamic=True)"
   ]
  },
  {
   "cell_type": "markdown",
   "id": "cfa82f1a",
   "metadata": {},
   "source": [
    "У нас есть 2 массива: значения и их частоты. Оба массива закодируем и посмотрим на их суммарный размер."
   ]
  },
  {
   "cell_type": "code",
   "execution_count": 116,
   "id": "d8c0e651",
   "metadata": {},
   "outputs": [],
   "source": [
    "#rle_values, rle_freqs\n",
    "bit_precision_config = 32\n",
    "rle_values_ari = din_arithmetic_compression(rle_values, bit_precision_config)\n",
    "rle_freqs_ari = din_arithmetic_compression(rle_freqs, bit_precision_config)"
   ]
  },
  {
   "cell_type": "code",
   "execution_count": 117,
   "id": "00b6e7f2",
   "metadata": {},
   "outputs": [
    {
     "data": {
      "text/plain": [
       "'0000111111010000111110000111'"
      ]
     },
     "execution_count": 117,
     "metadata": {},
     "output_type": "execute_result"
    }
   ],
   "source": [
    "rle_values_ari"
   ]
  },
  {
   "cell_type": "code",
   "execution_count": 118,
   "id": "62b8ee1a",
   "metadata": {},
   "outputs": [
    {
     "data": {
      "text/plain": [
       "'00011000000'"
      ]
     },
     "execution_count": 118,
     "metadata": {},
     "output_type": "execute_result"
    }
   ],
   "source": [
    "rle_freqs_ari"
   ]
  },
  {
   "cell_type": "markdown",
   "id": "34eb26f7",
   "metadata": {},
   "source": [
    "Декодирование   \n",
    "Число z ∈ [0, 1) декодируется в текст T = xi1 xi2· · · xin по следующим правилам:  \n",
    "* xi1 — метка интервала, в котором лежит z; объявляем интервал текущим\n",
    "* на каждом последующем шаге проектируем [0, 1) на текущий интервал; символ, в\n",
    "новый интервал которого попало z — очередной символ текста, а сам интервал\n",
    "становится текущим\n",
    "    \n",
    "Когда заканчивать?    \n",
    "* Если известна длина n текста — то после n итераций\n",
    "* Если есть символ конца текста — то после его декодирования"
   ]
  },
  {
   "cell_type": "code",
   "execution_count": 119,
   "id": "d37a6066",
   "metadata": {},
   "outputs": [],
   "source": [
    "def decompress(encoded_sequence: str, N: int, ordered_alphabet: list, message_len: int) -> list:\n",
    "\n",
    "    if message_len == 0:\n",
    "        return []\n",
    "\n",
    "    padded_sequence = encoded_sequence\n",
    "    if len(encoded_sequence) < N:\n",
    "        padding_needed = N - len(encoded_sequence)\n",
    "        padded_sequence += \"0\" * padding_needed\n",
    "\n",
    "    l, h = 0, 2**N - 1\n",
    "    bit_stream = iter(padded_sequence)\n",
    "    tag = int(\"\".join(next(bit_stream) for _ in range(N)), 2)\n",
    "    \n",
    "    frequencies = {symbol: 1 for symbol in ordered_alphabet}\n",
    "    total_count = len(ordered_alphabet)\n",
    "    decoded_message = []\n",
    "\n",
    "    for _ in range(message_len):\n",
    "        intervals = create_intervals(frequencies, N, total_count)\n",
    "\n",
    "        current_symbol = None\n",
    "        current_l_cand, current_h_cand = -1, -1\n",
    "        \n",
    "        # ИПоиск символа идет в том же порядке, что и создание интервалов\n",
    "        for symbol, interval_range in intervals.items():\n",
    "            l_cand = get_l_1(l, h, interval_range[0], N)\n",
    "            h_cand = get_h_1(l, h, interval_range[1], N)\n",
    "            if l_cand <= tag <= h_cand:\n",
    "                current_symbol = symbol\n",
    "                current_l_cand, current_h_cand = l_cand, h_cand\n",
    "                break\n",
    "        \n",
    "        if current_symbol is None:\n",
    "            raise ValueError(f\"Ошибка декодирования: символ для тега {tag} в диапазоне [{l}, {h}] не найден.\")\n",
    "\n",
    "        decoded_message.append(current_symbol)\n",
    "        l, h = current_l_cand, current_h_cand\n",
    "        while True:\n",
    "            matched_bits = get_matched_bits(l, h, N)\n",
    "            l_trick, h_trick, r = trick(l, h, N)\n",
    "\n",
    "            if matched_bits:\n",
    "                l = count_l_new(l, matched_bits, N)\n",
    "                h = count_h_new(h, matched_bits, N)\n",
    "                for _ in matched_bits:\n",
    "                    try:\n",
    "                        next_b = next(bit_stream)\n",
    "                        tag = ((tag << 1) & (2**N - 1)) | int(next_b)\n",
    "                    except StopIteration:\n",
    "                        tag = (tag << 1) & (2**N - 1)\n",
    "            elif r > 0:\n",
    "                l, h = l_trick, h_trick\n",
    "                tag_bin = bin_line(tag, N)\n",
    "                msb = tag_bin[0]\n",
    "                remaining_bits = tag_bin[r+1:]\n",
    "                new_bits = \"\"\n",
    "                for _ in range(r):\n",
    "                    try:\n",
    "                        new_bits += next(bit_stream)\n",
    "                    except StopIteration:\n",
    "                        new_bits += \"0\"\n",
    "                new_tag_bin = msb + remaining_bits + new_bits\n",
    "                tag = int(new_tag_bin, 2)\n",
    "            else:\n",
    "                break\n",
    "        frequencies[current_symbol] += 1\n",
    "        total_count += 1\n",
    "    return decoded_message"
   ]
  },
  {
   "cell_type": "code",
   "execution_count": 120,
   "id": "09a643ce",
   "metadata": {},
   "outputs": [],
   "source": [
    "alphabet = list(dict.fromkeys(rle_values))\n",
    "decoded = decompress(rle_values_ari, bit_precision_config,alphabet, len(rle_values))"
   ]
  },
  {
   "cell_type": "code",
   "execution_count": 121,
   "id": "2c4486f5",
   "metadata": {},
   "outputs": [
    {
     "data": {
      "text/plain": [
       "[97, 1, 110, 0, 68, 1, 0, 1, 3, 0]"
      ]
     },
     "execution_count": 121,
     "metadata": {},
     "output_type": "execute_result"
    }
   ],
   "source": [
    "decoded"
   ]
  },
  {
   "cell_type": "code",
   "execution_count": 122,
   "id": "fa4b660c",
   "metadata": {},
   "outputs": [
    {
     "data": {
      "text/plain": [
       "[97, 1, 110, 0, 68, 1, 0, 1, 3, 0]"
      ]
     },
     "execution_count": 122,
     "metadata": {},
     "output_type": "execute_result"
    }
   ],
   "source": [
    "rle_values"
   ]
  },
  {
   "cell_type": "markdown",
   "id": "f0eb0a44",
   "metadata": {},
   "source": [
    "Проверим на частотах"
   ]
  },
  {
   "cell_type": "code",
   "execution_count": 123,
   "id": "88c1419e",
   "metadata": {},
   "outputs": [
    {
     "data": {
      "text/plain": [
       "[1, 1, 1, 1, 1, 1, 1, 1, 1, 3]"
      ]
     },
     "execution_count": 123,
     "metadata": {},
     "output_type": "execute_result"
    }
   ],
   "source": [
    "alphabet = list(dict.fromkeys(rle_freqs))\n",
    "decoded = decompress(rle_freqs_ari, bit_precision_config,alphabet, len(rle_freqs))\n",
    "decoded"
   ]
  },
  {
   "cell_type": "code",
   "execution_count": 124,
   "id": "54fac3ad",
   "metadata": {},
   "outputs": [
    {
     "data": {
      "text/plain": [
       "[1, 1, 1, 1, 1, 1, 1, 1, 1, 3]"
      ]
     },
     "execution_count": 124,
     "metadata": {},
     "output_type": "execute_result"
    }
   ],
   "source": [
    "rle_freqs"
   ]
  },
  {
   "cell_type": "markdown",
   "id": "afc31314",
   "metadata": {},
   "source": [
    "Хаффман (библиотечная реализация)"
   ]
  },
  {
   "cell_type": "code",
   "execution_count": 125,
   "id": "8fc28d18",
   "metadata": {},
   "outputs": [],
   "source": [
    "import huffman\n",
    "\n",
    "# Создаем частотный словарь\n",
    "def huffman_encode(distance_list):\n",
    "    freq_dict = {}\n",
    "    for num in distance_list:\n",
    "        freq_dict[num] = freq_dict.get(num, 0) + 1\n",
    "    codebook = huffman.codebook(freq_dict.items())\n",
    "    # кодируем массив расстояний массив\n",
    "    encoded_bits = ''.join([codebook[num] for num in distance_list])\n",
    "    # преобразование в байты\n",
    "    # encoded_bytes = int(encoded_bits, 2).to_bytes((len(encoded_bits) + 7) // 8, 'big')\n",
    "    return codebook, encoded_bits"
   ]
  },
  {
   "cell_type": "code",
   "execution_count": 126,
   "id": "f92b116e",
   "metadata": {},
   "outputs": [],
   "source": [
    "def huffman_decode(encoded_bits: str, codebook: dict) -> list:\n",
    "    inverse_codebook = {v: k for k, v in codebook.items()}\n",
    "    \n",
    "    decoded_output = []\n",
    "    current_code = \"\"\n",
    "\n",
    "    for bit in encoded_bits:\n",
    "        current_code += bit\n",
    "        if current_code in inverse_codebook:\n",
    "            decoded_output.append(inverse_codebook[current_code])\n",
    "            current_code = \"\"\n",
    "\n",
    "    return decoded_output"
   ]
  },
  {
   "cell_type": "markdown",
   "id": "36bd7cca",
   "metadata": {},
   "source": [
    "Однако для оценки Хаффмана также нужно учитывать размер codebook"
   ]
  },
  {
   "cell_type": "code",
   "execution_count": 127,
   "id": "ccd63a84",
   "metadata": {},
   "outputs": [],
   "source": [
    "\n",
    "def size_codebook(codebook):\n",
    "        BITS_PER_SYMBOL_VALUE = 13 \n",
    "        num_unique_symbols = len(codebook)\n",
    "        codebook_overhead_bits = 0\n",
    "        for symbol_value in codebook.keys():\n",
    "                codebook_overhead_bits += BITS_PER_SYMBOL_VALUE # для самого символа\n",
    "                code_len = len(codebook[symbol_value])\n",
    "                codebook_overhead_bits += code_len\n",
    "        return codebook_overhead_bits"
   ]
  },
  {
   "cell_type": "code",
   "execution_count": 128,
   "id": "7f98e2f5",
   "metadata": {},
   "outputs": [],
   "source": [
    "codebook, encoded_bits = huffman_encode(rle_freqs)"
   ]
  },
  {
   "cell_type": "code",
   "execution_count": 129,
   "id": "5c47481c",
   "metadata": {},
   "outputs": [],
   "source": [
    "decoded_list = huffman_decode(encoded_bits, codebook)"
   ]
  },
  {
   "cell_type": "code",
   "execution_count": 130,
   "id": "1a136fee",
   "metadata": {},
   "outputs": [
    {
     "name": "stdout",
     "output_type": "stream",
     "text": [
      "совпадают: True\n"
     ]
    }
   ],
   "source": [
    "print(\"совпадают:\", rle_freqs == decoded_list)"
   ]
  },
  {
   "cell_type": "code",
   "execution_count": 131,
   "id": "89201c1e",
   "metadata": {},
   "outputs": [
    {
     "data": {
      "text/plain": [
       "{1: '1', 3: '0'}"
      ]
     },
     "execution_count": 131,
     "metadata": {},
     "output_type": "execute_result"
    }
   ],
   "source": [
    "codebook"
   ]
  },
  {
   "cell_type": "markdown",
   "id": "7207684f",
   "metadata": {},
   "source": [
    "### Задание 3. Проверка на книге "
   ]
  },
  {
   "cell_type": "markdown",
   "id": "d4d31123",
   "metadata": {},
   "source": [
    "Декапитализированный текст"
   ]
  },
  {
   "cell_type": "code",
   "execution_count": 132,
   "id": "0537560a",
   "metadata": {},
   "outputs": [],
   "source": [
    "with open('rousseau-confessions-lowercase.txt', 'r', encoding='utf-8') as file:\n",
    "    lower_text = file.read()"
   ]
  },
  {
   "cell_type": "code",
   "execution_count": 133,
   "id": "bb7590b9",
   "metadata": {},
   "outputs": [
    {
     "name": "stdout",
     "output_type": "stream",
     "text": [
      "Размер исх текста: 1480.73 КБ\n"
     ]
    }
   ],
   "source": [
    "text_size_bytes = len(lower_text.encode('utf-8'))  \n",
    "text_size_kb = text_size_bytes / 1024  # перевод в кб\n",
    "print(f\"Размер исх текста: {text_size_kb:.2f} КБ\")"
   ]
  },
  {
   "cell_type": "markdown",
   "id": "f1d40142",
   "metadata": {},
   "source": [
    "BWT"
   ]
  },
  {
   "cell_type": "code",
   "execution_count": 134,
   "id": "b1a5d30b",
   "metadata": {},
   "outputs": [],
   "source": [
    "import pydivsufsort"
   ]
  },
  {
   "cell_type": "code",
   "execution_count": 135,
   "id": "599ce368",
   "metadata": {},
   "outputs": [
    {
     "name": "stdout",
     "output_type": "stream",
     "text": [
      "Время выполнения кодирования: 0.3000 секунд.\n",
      "Время выполнения ДЕкодирования: 0.7460 секунд.\n",
      "Декодированный текст совпадает с исходным: True\n"
     ]
    }
   ],
   "source": [
    "text = lower_text\n",
    "start_time = time.time()\n",
    "bwt_result, eof_pos = bwt_suffix_arr(text)\n",
    "end_time = time.time()\n",
    "print(f\"Время выполнения кодирования: {end_time - start_time:.4f} секунд.\")\n",
    "start_time = time.time()\n",
    "decoded_text = bwt_decode(bwt_result, eof_pos)\n",
    "end_time = time.time()\n",
    "print(f\"Время выполнения ДЕкодирования: {end_time - start_time:.4f} секунд.\")\n",
    "print(f\"Декодированный текст совпадает с исходным: {decoded_text == text}\")\n"
   ]
  },
  {
   "cell_type": "markdown",
   "id": "cdb96389",
   "metadata": {},
   "source": [
    "Получаем bwt(T) = bwt_result"
   ]
  },
  {
   "cell_type": "markdown",
   "id": "3fa19b01",
   "metadata": {},
   "source": [
    "Далее применяем MTF"
   ]
  },
  {
   "cell_type": "code",
   "execution_count": 136,
   "id": "3b8a6d34",
   "metadata": {},
   "outputs": [
    {
     "name": "stdout",
     "output_type": "stream",
     "text": [
      "Декодирование успешно: True\n"
     ]
    }
   ],
   "source": [
    "mtf_result = mtf_encode(bwt_result)\n",
    "\n",
    "# Декодирование\n",
    "decoded_string = mtf_decode(mtf_result)\n",
    "print(f\"Декодирование успешно: {decoded_string == bwt_result}\")"
   ]
  },
  {
   "cell_type": "code",
   "execution_count": 137,
   "id": "5b31ed7a",
   "metadata": {},
   "outputs": [
    {
     "name": "stdout",
     "output_type": "stream",
     "text": [
      "Размер MTF: 1480.73 КБ\n"
     ]
    }
   ],
   "source": [
    "s_bytes = bytes(mtf_result)\n",
    "size_bytes = len(s_bytes)\n",
    "size_kb = size_bytes / 1024\n",
    "print(f\"Размер MTF: {size_kb:.2f} КБ\")"
   ]
  },
  {
   "cell_type": "markdown",
   "id": "83a48f1d",
   "metadata": {},
   "source": [
    "При выполнении несжимающих преобразований размер не изменился"
   ]
  },
  {
   "cell_type": "markdown",
   "id": "11a72182",
   "metadata": {},
   "source": [
    "RLE"
   ]
  },
  {
   "cell_type": "code",
   "execution_count": 138,
   "id": "830010b6",
   "metadata": {},
   "outputs": [],
   "source": [
    "rle_values, rle_freqs = rle_encode(mtf_result)"
   ]
  },
  {
   "cell_type": "code",
   "execution_count": 139,
   "id": "195b4256",
   "metadata": {},
   "outputs": [
    {
     "name": "stdout",
     "output_type": "stream",
     "text": [
      "Размер rle_values: 668.16 КБ\n"
     ]
    }
   ],
   "source": [
    "s_bytes = bytes(rle_values)\n",
    "size_bytes = len(s_bytes)\n",
    "size_kb = size_bytes / 1024\n",
    "print(f\"Размер rle_values: {size_kb:.2f} КБ\")"
   ]
  },
  {
   "cell_type": "code",
   "execution_count": 140,
   "id": "8bdfc191",
   "metadata": {},
   "outputs": [
    {
     "data": {
      "text/plain": [
       "5095"
      ]
     },
     "execution_count": 140,
     "metadata": {},
     "output_type": "execute_result"
    }
   ],
   "source": [
    "max(rle_freqs)"
   ]
  },
  {
   "cell_type": "code",
   "execution_count": 141,
   "id": "f3808d5b",
   "metadata": {},
   "outputs": [
    {
     "name": "stdout",
     "output_type": "stream",
     "text": [
      "Размер rle_freqs: 668.16 КБ\n"
     ]
    }
   ],
   "source": [
    "import array\n",
    "# Только если все частоты <= 255\n",
    "if all(f <= 255 for f in rle_freqs):\n",
    "    arr = array.array('B', rle_freqs)  \n",
    "else:\n",
    "    arr = array.array('H', rle_freqs)\n",
    "\n",
    "as_bytes = arr.tobytes()\n",
    "print(f\"Размер rle_freqs: {size_kb:.2f} КБ\")"
   ]
  },
  {
   "cell_type": "code",
   "execution_count": 142,
   "id": "1e9e4b3a",
   "metadata": {},
   "outputs": [],
   "source": [
    "zle_encoded = zle_encode(mtf_result)\n",
    "decoded = zle_decode(zle_encoded)"
   ]
  },
  {
   "cell_type": "code",
   "execution_count": 143,
   "id": "7d9e27ef",
   "metadata": {},
   "outputs": [
    {
     "data": {
      "text/plain": [
       "True"
      ]
     },
     "execution_count": 143,
     "metadata": {},
     "output_type": "execute_result"
    }
   ],
   "source": [
    "mtf_result == decoded"
   ]
  },
  {
   "cell_type": "markdown",
   "id": "b238f398",
   "metadata": {},
   "source": [
    "Проверим длинну овторов"
   ]
  },
  {
   "cell_type": "code",
   "execution_count": 144,
   "id": "99362c77",
   "metadata": {},
   "outputs": [
    {
     "name": "stdout",
     "output_type": "stream",
     "text": [
      "Средняя длина повторов: 1.75\n"
     ]
    }
   ],
   "source": [
    "avg_run_length = sum(mtf_result) / len(mtf_result)\n",
    "print(f\"Средняя длина повторов: {avg_run_length:.2f}\")"
   ]
  },
  {
   "cell_type": "code",
   "execution_count": 145,
   "id": "c81b809d",
   "metadata": {},
   "outputs": [
    {
     "name": "stdout",
     "output_type": "stream",
     "text": [
      "Размер zle_encoded: 668.16 КБ\n"
     ]
    }
   ],
   "source": [
    "if all(f <= 255 for f in zle_encoded):\n",
    "    arr = array.array('B', zle_encoded)  \n",
    "else:\n",
    "    arr = array.array('H', zle_encoded)\n",
    "\n",
    "as_bytes = arr.tobytes()\n",
    "print(f\"Размер zle_encoded: {size_kb:.2f} КБ\")"
   ]
  },
  {
   "cell_type": "markdown",
   "id": "41992083",
   "metadata": {},
   "source": [
    "Таким образом после применения ZLE получаем последовательность zle_encoded весом 668.16 КБ"
   ]
  },
  {
   "cell_type": "markdown",
   "id": "9818ac2a",
   "metadata": {},
   "source": [
    "Далее будем использовать ZLE zle_encoded"
   ]
  },
  {
   "cell_type": "markdown",
   "id": "9b86d8ce",
   "metadata": {},
   "source": [
    "ARI"
   ]
  },
  {
   "cell_type": "code",
   "execution_count": 146,
   "id": "f1cd0138",
   "metadata": {},
   "outputs": [],
   "source": [
    "bit_precision_config = 32"
   ]
  },
  {
   "cell_type": "markdown",
   "id": "bdc75058",
   "metadata": {},
   "source": [
    "Кодируем значения"
   ]
  },
  {
   "cell_type": "code",
   "execution_count": 147,
   "id": "38f9ed07",
   "metadata": {},
   "outputs": [],
   "source": [
    "zle_encoded_ari = din_arithmetic_compression(zle_encoded, bit_precision_config)"
   ]
  },
  {
   "cell_type": "code",
   "execution_count": 148,
   "id": "9a028b77",
   "metadata": {},
   "outputs": [
    {
     "data": {
      "text/plain": [
       "367.3887939453125"
      ]
     },
     "execution_count": 148,
     "metadata": {},
     "output_type": "execute_result"
    }
   ],
   "source": [
    "len(zle_encoded_ari)/8/1024"
   ]
  },
  {
   "cell_type": "markdown",
   "id": "57617007",
   "metadata": {},
   "source": [
    "Однако для декодирования арифметического кода нужно будет передать алфавит, bit_precision_config"
   ]
  },
  {
   "cell_type": "code",
   "execution_count": 149,
   "id": "1e43b5bc",
   "metadata": {},
   "outputs": [],
   "source": [
    "alphabet = list(dict.fromkeys(zle_encoded)) \n",
    "#alphabet = sorted(set(zle_encoded)) "
   ]
  },
  {
   "cell_type": "code",
   "execution_count": 150,
   "id": "77bc1ccd",
   "metadata": {},
   "outputs": [
    {
     "name": "stdout",
     "output_type": "stream",
     "text": [
      "Размер алфавита: 0.08 КБ\n"
     ]
    }
   ],
   "source": [
    "if max(alphabet) < 256:\n",
    "    arr = array.array('B', alphabet)\n",
    "else:\n",
    "    arr = array.array('H', alphabet)\n",
    "as_bytes = arr.tobytes()\n",
    "print(f\"Размер алфавита: {len(as_bytes) / 1024:.2f} КБ\")"
   ]
  },
  {
   "cell_type": "markdown",
   "id": "b9593d28",
   "metadata": {},
   "source": [
    "Финальный вес текста после применения: BWT + MTF + ZLE + ARI = 367.3887 KB + 0.08 КБ = 367,4687 КБ"
   ]
  },
  {
   "cell_type": "markdown",
   "id": "76fb35ef",
   "metadata": {},
   "source": [
    "Хаффман. Кодируем последовательность после ZLE"
   ]
  },
  {
   "cell_type": "code",
   "execution_count": 151,
   "id": "5e1532c7",
   "metadata": {},
   "outputs": [
    {
     "name": "stdout",
     "output_type": "stream",
     "text": [
      "Размер сжатых данных: 371.90 КБ\n"
     ]
    }
   ],
   "source": [
    "codebook_value, encoded_bits_value = huffman_encode(zle_encoded)\n",
    "# print(\":\", encoded_bits)\n",
    "print(f\"Размер сжатых данных: {len(encoded_bits_value)/1024/8:.2f} КБ\")"
   ]
  },
  {
   "cell_type": "markdown",
   "id": "212ef6b2",
   "metadata": {},
   "source": [
    "Кодируем codebook"
   ]
  },
  {
   "cell_type": "code",
   "execution_count": 152,
   "id": "e1391d0f",
   "metadata": {},
   "outputs": [
    {
     "name": "stdout",
     "output_type": "stream",
     "text": [
      "Размер сжатых данных codebook_freqs: 0.25 КБ\n"
     ]
    }
   ],
   "source": [
    "codebook_overhead_codebook = size_codebook(codebook_value)\n",
    "print(f\"Размер сжатых данных codebook_freqs: {codebook_overhead_codebook/1024/8:.2f} КБ\")"
   ]
  },
  {
   "cell_type": "markdown",
   "id": "9c317997",
   "metadata": {},
   "source": [
    "Финальный вес текста после применения: BWT + MTF + ZLE + HUF = 372.15 KB"
   ]
  },
  {
   "cell_type": "markdown",
   "id": "b8bb54af",
   "metadata": {},
   "source": [
    "Таким образом остановимся на BWT + MTF + ZLE + ARI. Полная версия сжатия - расжатия."
   ]
  },
  {
   "cell_type": "code",
   "execution_count": 153,
   "id": "ef3963a9",
   "metadata": {},
   "outputs": [],
   "source": [
    "with open('rousseau-confessions-lowercase.txt', 'r', encoding='utf-8') as file:\n",
    "    text = file.read()"
   ]
  },
  {
   "cell_type": "markdown",
   "id": "19aa45e1",
   "metadata": {},
   "source": [
    "Сжатие"
   ]
  },
  {
   "cell_type": "code",
   "execution_count": 154,
   "id": "4e64723f",
   "metadata": {},
   "outputs": [],
   "source": [
    "bwt_result, eof_pos = bwt_suffix_arr(text)\n",
    "mtf_result = mtf_encode(bwt_result)\n",
    "zle_encoded = zle_encode(mtf_result)\n",
    "bit_precision_config = 32 \n",
    "zle_encoded_ari = din_arithmetic_compression(zle_encoded, bit_precision_config)\n",
    "alphabet = list(dict.fromkeys(zle_encoded)) \n",
    "L = len(zle_encoded)"
   ]
  },
  {
   "cell_type": "markdown",
   "id": "07ab1731",
   "metadata": {},
   "source": [
    "Декомпрессия"
   ]
  },
  {
   "cell_type": "markdown",
   "id": "f803f23d",
   "metadata": {},
   "source": [
    "* закодированный текст (после арифметического кодирования) zle_encoded_ari   \n",
    "* bit_precision_config = 32 \n",
    "* alphabet\n",
    "* eof_pos"
   ]
  },
  {
   "cell_type": "code",
   "execution_count": 155,
   "id": "53281e49",
   "metadata": {},
   "outputs": [],
   "source": [
    "# декодирование\n",
    "zle_decoded = decompress(zle_encoded_ari , bit_precision_config,alphabet, L)\n",
    "mtf_decoded = zle_decode(zle_decoded)\n",
    "bwt_decoded = mtf_decode(mtf_decoded)\n",
    "decoded_text = bwt_decode(bwt_decoded, eof_pos)"
   ]
  },
  {
   "cell_type": "code",
   "execution_count": 156,
   "id": "ae96fada",
   "metadata": {},
   "outputs": [
    {
     "data": {
      "text/plain": [
       "True"
      ]
     },
     "execution_count": 156,
     "metadata": {},
     "output_type": "execute_result"
    }
   ],
   "source": [
    "text == decoded_text"
   ]
  },
  {
   "cell_type": "markdown",
   "id": "f52ac718",
   "metadata": {},
   "source": [
    "Далее перенесем это в какой-нибудь CLI. По хорошему нужно будет сделать упаковку всех необходимых для распаковки данных (zle_encoded_ari, bit_precision_config, alphabet, eof_pos) в один-единственный сжатый файл."
   ]
  },
  {
   "cell_type": "markdown",
   "id": "a05c7fb1",
   "metadata": {},
   "source": [
    "Сравнение размера сжатого файла с исходным. Сжатие: файл -> декапитализация -> сжатие декапитализированного файла -> сжатие массива исключений -> сериализация имен собственных. Распаковка: распаковка декапитализированного файла -> распаковка массива исключений -> восстановление исходного файла "
   ]
  },
  {
   "cell_type": "code",
   "execution_count": 157,
   "id": "4f1ec823",
   "metadata": {},
   "outputs": [],
   "source": [
    "file_name = 'rousseau-confessions-cleaned.txt'"
   ]
  },
  {
   "cell_type": "markdown",
   "id": "ca4e62b3",
   "metadata": {},
   "source": [
    "Декапитализация"
   ]
  },
  {
   "cell_type": "code",
   "execution_count": 158,
   "id": "9316dc50",
   "metadata": {},
   "outputs": [],
   "source": [
    "SPECIAL_CASES = [\n",
    "    'Paris', 'Warrens', 'Luxembourg', 'Epinay', 'Geneva', 'Theresa', \n",
    "    'France', 'Diderot', 'Grimm', 'Abbe', 'Houdetot', 'Hermitage', 'French', \n",
    "    'Mademoiselle', 'Dupin', 'Madam de Warrens','Madam de Dupin'\n",
    "]"
   ]
  },
  {
   "cell_type": "code",
   "execution_count": 159,
   "id": "f23f5a88",
   "metadata": {},
   "outputs": [],
   "source": [
    "def capitalization(index, text_list, special_cases_list):\n",
    "    if index < 0 or index >= len(text_list):\n",
    "        return False\n",
    "\n",
    "    ch = text_list[index]\n",
    "    if not ch.isalpha():\n",
    "        return False\n",
    "\n",
    "    # П1: Первая буква в тексте\n",
    "    if index == 0:\n",
    "        return True\n",
    "\n",
    "    if index >= 2 and text_list[index - 1].isupper() and text_list[index - 2].isupper():\n",
    "        return False\n",
    "\n",
    "    # П* правило для специальных слов\n",
    "    for special_phrase in special_cases_list:\n",
    "        if len(special_phrase) > index + 1: continue\n",
    "        for phrase_char_idx in range(len(special_phrase)):\n",
    "            text_start_idx_for_match = index - phrase_char_idx\n",
    "            if text_start_idx_for_match >= 0 and \\\n",
    "               text_start_idx_for_match + len(special_phrase) <= len(text_list):\n",
    "                segment_in_text = \"\".join(text_list[text_start_idx_for_match : text_start_idx_for_match + len(special_phrase)])\n",
    "                if segment_in_text.lower() == special_phrase.lower():\n",
    "                    return special_phrase[phrase_char_idx].isupper()\n",
    "\n",
    "    # П2: После .!?\n",
    "    if index > 0:\n",
    "        j = index - 1\n",
    "        saw_space_or_newline = False\n",
    "        while j >= 0 and text_list[j].isspace():\n",
    "            saw_space_or_newline = True\n",
    "            j -= 1\n",
    "        if saw_space_or_newline and j >= 0 and text_list[j] in '.!?':\n",
    "            return True\n",
    "\n",
    "    # П4: Изолированное 'I'\n",
    "    if ch.lower() == 'i':\n",
    "        prev = text_list[index - 1] if index > 0 else ' '\n",
    "        next_ch = text_list[index + 1] if index + 1 < len(text_list) else ' '\n",
    "        \n",
    "        if not prev.isalpha() and not next_ch.isalpha():\n",
    "            if next_ch == '.':\n",
    "                next_next_ch = text_list[index + 2] if index + 2 < len(text_list) else ' '\n",
    "                if next_next_ch.isalpha():\n",
    "                    return False \n",
    "            return True\n",
    "            \n",
    "    return False"
   ]
  },
  {
   "cell_type": "code",
   "execution_count": 160,
   "id": "e03c9926",
   "metadata": {},
   "outputs": [],
   "source": [
    "def find_word_at_index(text_content, index):\n",
    "    if not text_content[index].isalpha():\n",
    "        return \"\"\n",
    "    start = index\n",
    "    while start > 0 and text_content[start - 1].isalpha():\n",
    "        start -= 1\n",
    "    end = index\n",
    "    while end < len(text_content) - 1 and text_content[end + 1].isalpha():\n",
    "        end += 1\n",
    "    return text_content[start : end + 1]"
   ]
  },
  {
   "cell_type": "code",
   "execution_count": 161,
   "id": "b72a1d7c",
   "metadata": {},
   "outputs": [],
   "source": [
    "def exeption_counter(text, SPECIAL_CASES):  \n",
    "    words_with_mismatches_counts = collections.Counter()\n",
    "    mismatches_count = 0  \n",
    "    exception_markers = [0] * len(text)\n",
    "    for i, original_char in enumerate(text):\n",
    "        if original_char.isalpha():\n",
    "            should_be_capital = capitalization(i, text, SPECIAL_CASES)\n",
    "            is_capital_original = original_char.isupper()\n",
    "\n",
    "            if should_be_capital != is_capital_original:\n",
    "                exception_markers[i] = 1 # исключение\n",
    "                mismatches_count += 1\n",
    "                word = find_word_at_index(text, i)\n",
    "                if word:\n",
    "                    words_with_mismatches_counts[word] += 1\n",
    "    return exception_markers"
   ]
  },
  {
   "cell_type": "code",
   "execution_count": 162,
   "id": "7d8caf8e",
   "metadata": {},
   "outputs": [],
   "source": [
    "def decapitalization_text(file_name, special_cases):    \n",
    "    # file_name = 'rousseau-confessions-cleaned.txt'\n",
    "    # mismatches_count = 0\n",
    "    # words_with_mismatches_counts = collections.Counter()\n",
    "\n",
    "    try:\n",
    "        with open(file_name, 'r', encoding='utf-8') as file:\n",
    "            text = file.read()\n",
    "    except FileNotFoundError:\n",
    "            print(f\"Ошибка с файлом '{file_name}' не найден\")\n",
    "            exit()\n",
    "    except Exception as e:\n",
    "            print(f\"Ошибка при чтении файла: {e}\")\n",
    "            exit()\n",
    "    text_lower = text.lower()\n",
    "    exception_list = exeption_counter(text, special_cases)\n",
    "    return text_lower, exception_list"
   ]
  },
  {
   "cell_type": "code",
   "execution_count": null,
   "id": "d3374122",
   "metadata": {},
   "outputs": [],
   "source": [
    "def recapitalize(distance_list, decapitalized_text, special_cases_list):\n",
    "    # восстановить  индексы искл\n",
    "    exception_indices = set()\n",
    "    current_index = 0\n",
    "    if distance_list:\n",
    "        current_index = distance_list[0]\n",
    "        exception_indices.add(current_index)\n",
    "        for i in range(1, len(distance_list)):\n",
    "            current_index += distance_list[i]\n",
    "            exception_indices.add(current_index)\n",
    "\n",
    "\n",
    "    result_chars = list(decapitalized_text)\n",
    "\n",
    "\n",
    "    for i, char in enumerate(result_chars):\n",
    "        if not char.isalpha():\n",
    "            continue\n",
    "\n",
    "        rule_says_upper = capitalization(i, result_chars, special_cases_list)\n",
    "        \n",
    "        is_an_exception = i in exception_indices\n",
    "        \n",
    "        # XOR\n",
    "        if rule_says_upper ^ is_an_exception:\n",
    "            result_chars[i] = char.upper()\n",
    "        else:\n",
    "          \n",
    "            result_chars[i] = char.lower()\n",
    "            \n",
    "    return \"\".join(result_chars)\n"
   ]
  },
  {
   "cell_type": "markdown",
   "id": "074cddb7",
   "metadata": {},
   "source": [
    "Сжатие массива исключений"
   ]
  },
  {
   "cell_type": "code",
   "execution_count": 164,
   "id": "5c8d9912",
   "metadata": {},
   "outputs": [],
   "source": [
    "def exeptions_dist(exception_markers):    \n",
    "    distances = []\n",
    "    last_one_index = -1\n",
    "    for i, marker in enumerate(exception_markers):\n",
    "        if marker == 1:\n",
    "            if last_one_index == -1: # Первая единица\n",
    "                distances.append(i)\n",
    "            else:\n",
    "                distances.append(i - last_one_index)\n",
    "            last_one_index = i\n",
    "    return distances"
   ]
  },
  {
   "cell_type": "code",
   "execution_count": null,
   "id": "0917bc6f",
   "metadata": {},
   "outputs": [],
   "source": [
    "text_lower, exception_list = decapitalization_text(file_name, SPECIAL_CASES)\n",
    "distance_list = exeptions_dist(exception_list)\n",
    "exception_list_compressed = din_arithmetic_compression(distance_list, bit_precision_config)"
   ]
  },
  {
   "cell_type": "code",
   "execution_count": 166,
   "id": "a709739c",
   "metadata": {},
   "outputs": [],
   "source": [
    "distance_list = exeptions_dist(exception_list)\n",
    "recapitalized_text = recapitalize(distance_list, text_lower, SPECIAL_CASES)"
   ]
  },
  {
   "cell_type": "markdown",
   "id": "4730251e",
   "metadata": {},
   "source": [
    "Передача массива имен. Сжимать мы его не будем, но... Может объединить его в строку с разделяющим символом и передать. Эти изменения внесем в новый файл архиватора"
   ]
  },
  {
   "cell_type": "code",
   "execution_count": 167,
   "id": "0c07704e",
   "metadata": {},
   "outputs": [],
   "source": [
    "# \"\\0\".join(cases_list) # одна строка, содержащая все элементы списка, разделенные \n",
    "# packed_string.split('\\0') # обратно"
   ]
  },
  {
   "cell_type": "markdown",
   "id": "4c95a26d",
   "metadata": {},
   "source": [
    "Полный архиватор "
   ]
  },
  {
   "cell_type": "code",
   "execution_count": 168,
   "id": "8a2eb12c",
   "metadata": {},
   "outputs": [],
   "source": [
    "file_name = 'rousseau-confessions-cleaned.txt'\n",
    "SPECIAL_CASES = [\n",
    "    'Paris', 'Warrens', 'Luxembourg', 'Epinay', 'Geneva', 'Theresa', \n",
    "    'France', 'Diderot', 'Grimm', 'Abbe', 'Houdetot', 'Hermitage', 'French', \n",
    "    'Mademoiselle', 'Dupin', 'Madam de Warrens','Madam de Dupin'\n",
    "]"
   ]
  },
  {
   "cell_type": "code",
   "execution_count": 169,
   "id": "2b05bb7d",
   "metadata": {},
   "outputs": [],
   "source": [
    "text_lower, exception_list = decapitalization_text(file_name, SPECIAL_CASES)\n",
    "distance_list = exeptions_dist(exception_list)\n",
    "exception_list_compressed = din_arithmetic_compression(distance_list, bit_precision_config)"
   ]
  },
  {
   "cell_type": "code",
   "execution_count": 170,
   "id": "2070b771",
   "metadata": {},
   "outputs": [],
   "source": [
    "bwt_result, eof_pos = bwt_suffix_arr(text_lower)\n",
    "exception_list = decapitalization_text(file_name, SPECIAL_CASES)\n",
    "\n",
    "mtf_result = mtf_encode(bwt_result)\n",
    "zle_encoded = zle_encode(mtf_result)\n",
    "bit_precision_config = 32 \n",
    "zle_encoded_ari = din_arithmetic_compression(zle_encoded, bit_precision_config)\n",
    "alphabet = list(dict.fromkeys(zle_encoded)) \n",
    "L = len(zle_encoded)\n",
    "cases_list = \"\\0\".join(SPECIAL_CASES) "
   ]
  },
  {
   "cell_type": "code",
   "execution_count": 179,
   "id": "5a5b9384",
   "metadata": {},
   "outputs": [
    {
     "data": {
      "text/plain": [
       "7.5625"
      ]
     },
     "execution_count": 179,
     "metadata": {},
     "output_type": "execute_result"
    }
   ],
   "source": [
    "len(exception_list_compressed)/8/1024"
   ]
  },
  {
   "cell_type": "code",
   "execution_count": 171,
   "id": "d5ce73c1",
   "metadata": {},
   "outputs": [],
   "source": [
    "L_dl = len(distance_list)\n",
    "alphabet_dl = list(dict.fromkeys(distance_list))"
   ]
  },
  {
   "cell_type": "markdown",
   "id": "7ed2b622",
   "metadata": {},
   "source": [
    "Декомпрессия"
   ]
  },
  {
   "cell_type": "markdown",
   "id": "41179bfd",
   "metadata": {},
   "source": [
    "* закодированный текст (после арифметического кодирования) zle_encoded_ari   \n",
    "* bit_precision_config = 32 \n",
    "* alphabet\n",
    "* eof_pos\n",
    "* exception_list_compressed - сжатый массив исключений   \n",
    "* cases_list - строка имен собственных  \n",
    "* L_dl - длинна массива исключений\n",
    "* alphabet_dl"
   ]
  },
  {
   "cell_type": "code",
   "execution_count": 172,
   "id": "683325aa",
   "metadata": {},
   "outputs": [],
   "source": [
    "zle_decoded = decompress(zle_encoded_ari , bit_precision_config,alphabet, L)\n",
    "mtf_decoded = zle_decode(zle_decoded)\n",
    "bwt_decoded = mtf_decode(mtf_decoded)\n",
    "decoded_text = bwt_decode(bwt_decoded, eof_pos) # это декапитализированный текст"
   ]
  },
  {
   "cell_type": "code",
   "execution_count": 173,
   "id": "b07044f5",
   "metadata": {},
   "outputs": [],
   "source": [
    "distance_list = decompress(exception_list_compressed , bit_precision_config,alphabet_dl, L_dl)"
   ]
  },
  {
   "cell_type": "code",
   "execution_count": 176,
   "id": "3c323e24",
   "metadata": {},
   "outputs": [],
   "source": [
    "SPECIAL_CASES = cases_list.split('\\0')"
   ]
  },
  {
   "cell_type": "code",
   "execution_count": 177,
   "id": "dc5d77a9",
   "metadata": {},
   "outputs": [],
   "source": [
    "recapitalized_text = recapitalize(distance_list, text_lower, SPECIAL_CASES)"
   ]
  },
  {
   "cell_type": "code",
   "execution_count": 178,
   "id": "ddee2ed2",
   "metadata": {},
   "outputs": [
    {
     "data": {
      "text/plain": [
       "True"
      ]
     },
     "execution_count": 178,
     "metadata": {},
     "output_type": "execute_result"
    }
   ],
   "source": [
    "with open(file_name, 'r', encoding='utf-8') as file:\n",
    "        text = file.read()\n",
    "recapitalized_text == text"
   ]
  },
  {
   "cell_type": "markdown",
   "id": "58d89efb",
   "metadata": {},
   "source": [
    "Перенесем функции для сжатия нормального текста, с заглавными буквами, сожмем его архиватором и посмотрим на размер полученного файла и запишем результаты в отчет"
   ]
  },
  {
   "cell_type": "markdown",
   "id": "638508df",
   "metadata": {},
   "source": [
    "Также список SPECIAL_CASES можно оставить в модуле с капитализацией, но лучше его передавать"
   ]
  },
  {
   "cell_type": "code",
   "execution_count": 6,
   "id": "6ba9ae12",
   "metadata": {},
   "outputs": [],
   "source": [
    "import sjatie_DZ3\n",
    "import sjatie_DZ3.arithmeticcoding\n",
    "import sjatie_DZ3.arithmetic as arithmetic\n"
   ]
  },
  {
   "cell_type": "code",
   "execution_count": 7,
   "id": "aabfd385",
   "metadata": {},
   "outputs": [],
   "source": [
    "BIT_PRECISION_CONFIG = 32\n",
    "zle_encoded = [1,2,3,4,5]\n",
    "alphabet = sorted(list(set(zle_encoded)))\n",
    "# Создаем карту для преобразования в плотный алфавит 0..N-1\n",
    "symbol_map = {symbol: i for i, symbol in enumerate(alphabet)}\n",
    "# Преобразуем исходные данные\n",
    "mapped_zle_encoded = [symbol_map[s] for s in zle_encoded]\n",
    "zle_encoded_ari_bit_string = arithmetic.din_arithmetic_compression(mapped_zle_encoded, BIT_PRECISION_CONFIG)"
   ]
  },
  {
   "cell_type": "code",
   "execution_count": 8,
   "id": "a1975027",
   "metadata": {},
   "outputs": [],
   "source": [
    "alphabet = list(set(zle_encoded))\n",
    "#alphabet_main_str = \",\".join(map(str, alphabet))\n",
    "alphabet_main_str = \",\".join(map(str, alphabet)) # TODO\n",
    "alphabet_main_bytes = alphabet_main_str.encode('utf-8')\n",
    "original_len = len(zle_encoded)"
   ]
  },
  {
   "cell_type": "code",
   "execution_count": 9,
   "id": "2f88f697",
   "metadata": {},
   "outputs": [],
   "source": [
    "mapped_decoded = arithmetic.decompress(zle_encoded_ari_bit_string, BIT_PRECISION_CONFIG, alphabet, original_len)"
   ]
  },
  {
   "cell_type": "code",
   "execution_count": 11,
   "id": "02c2494f",
   "metadata": {},
   "outputs": [
    {
     "data": {
      "text/plain": [
       "[1, 2, 3, 4, 5]"
      ]
     },
     "execution_count": 11,
     "metadata": {},
     "output_type": "execute_result"
    }
   ],
   "source": [
    "zle_decoded = [alphabet[i] for i in mapped_decoded]\n",
    "zle_decoded"
   ]
  },
  {
   "cell_type": "markdown",
   "id": "25e211a9",
   "metadata": {},
   "source": []
  }
 ],
 "metadata": {
  "kernelspec": {
   "display_name": "base",
   "language": "python",
   "name": "python3"
  },
  "language_info": {
   "codemirror_mode": {
    "name": "ipython",
    "version": 3
   },
   "file_extension": ".py",
   "mimetype": "text/x-python",
   "name": "python",
   "nbconvert_exporter": "python",
   "pygments_lexer": "ipython3",
   "version": "3.12.7"
  }
 },
 "nbformat": 4,
 "nbformat_minor": 5
}
